{
 "cells": [
  {
   "cell_type": "code",
   "execution_count": 10,
   "metadata": {
    "collapsed": true
   },
   "outputs": [],
   "source": [
    "def make_average():\n",
    "    total = 0\n",
    "    cnt = 0\n",
    "\n",
    "    def averager(new_value):\n",
    "        nonlocal total, cnt\n",
    "        total += new_value\n",
    "        cnt += 1\n",
    "        return total / cnt\n",
    "\n",
    "    return averager"
   ]
  },
  {
   "cell_type": "code",
   "execution_count": 11,
   "outputs": [],
   "source": [
    "avg = make_average()"
   ],
   "metadata": {
    "collapsed": false,
    "pycharm": {
     "name": "#%%\n"
    }
   }
  },
  {
   "cell_type": "code",
   "execution_count": 12,
   "outputs": [
    {
     "data": {
      "text/plain": "11.0"
     },
     "execution_count": 12,
     "metadata": {},
     "output_type": "execute_result"
    }
   ],
   "source": [
    "avg(11)"
   ],
   "metadata": {
    "collapsed": false,
    "pycharm": {
     "name": "#%%\n"
    }
   }
  },
  {
   "cell_type": "code",
   "execution_count": 13,
   "outputs": [
    {
     "data": {
      "text/plain": "('cnt', 'total')"
     },
     "execution_count": 13,
     "metadata": {},
     "output_type": "execute_result"
    }
   ],
   "source": [
    "avg.__code__.co_freevars"
   ],
   "metadata": {
    "collapsed": false,
    "pycharm": {
     "name": "#%%\n"
    }
   }
  },
  {
   "cell_type": "code",
   "execution_count": 15,
   "outputs": [
    {
     "data": {
      "text/plain": "(<cell at 0x0000026412151BE0: int object at 0x00007FFAD39F16B0>,\n <cell at 0x0000026412151CA0: int object at 0x00007FFAD39F17F0>)"
     },
     "execution_count": 15,
     "metadata": {},
     "output_type": "execute_result"
    }
   ],
   "source": [
    "avg.__closure__"
   ],
   "metadata": {
    "collapsed": false,
    "pycharm": {
     "name": "#%%\n"
    }
   }
  },
  {
   "cell_type": "code",
   "execution_count": 17,
   "outputs": [
    {
     "data": {
      "text/plain": "(<cell at 0x0000026412151BE0: int object at 0x00007FFAD39F16F0>,\n <cell at 0x0000026412151CA0: int object at 0x00007FFAD39F1CF0>)"
     },
     "execution_count": 17,
     "metadata": {},
     "output_type": "execute_result"
    }
   ],
   "source": [
    "avg(20)\n",
    "avg.__closure__"
   ],
   "metadata": {
    "collapsed": false,
    "pycharm": {
     "name": "#%%\n"
    }
   }
  },
  {
   "cell_type": "code",
   "execution_count": 21,
   "outputs": [
    {
     "name": "stdout",
     "output_type": "stream",
     "text": [
      "factorial0 running in 2.4000000848900527e-06s\n",
      "factorial1 running in 1.0000001111620804e-06s\n",
      "factorial2 running in 0.0002248999999210355s\n",
      "factorial3 running in 6.999998731771484e-07s\n",
      "factorial4 running in 0.00024329999996552942s\n",
      "factorial5 running in 4.999999418942025e-07s\n",
      "factorial6 running in 0.0002613999999994121s\n",
      "factorial7 running in 1.9999999949504854e-06s\n",
      "factorial8 running in 0.00033540000003995374s\n",
      "factorial9 running in 7.999999525054591e-07s\n",
      "factorial10 running in 0.00036499999987427145s\n"
     ]
    },
    {
     "data": {
      "text/plain": "89"
     },
     "execution_count": 21,
     "metadata": {},
     "output_type": "execute_result"
    }
   ],
   "source": [
    "from functools import wraps\n",
    "from functools import lru_cache\n",
    "from time import perf_counter\n",
    "\n",
    "\n",
    "def time_it(func):\n",
    "    wraps(func)\n",
    "\n",
    "    def wrapper(*args, **kwargs):\n",
    "        start_time = perf_counter()\n",
    "        result = func(*args, **kwargs)\n",
    "        print(f'{func.__name__}{args[0]} running in {perf_counter() - start_time}s')\n",
    "        return result\n",
    "\n",
    "    return wrapper\n",
    "\n",
    "\n",
    "@lru_cache()\n",
    "@time_it\n",
    "def factorial(n):\n",
    "    if n == 1 or n == 0:\n",
    "        return 1\n",
    "    else:\n",
    "        return factorial(n - 2) + factorial(n - 1)\n",
    "\n",
    "\n",
    "factorial(10)"
   ],
   "metadata": {
    "collapsed": false,
    "pycharm": {
     "name": "#%%\n"
    }
   }
  },
  {
   "cell_type": "code",
   "execution_count": 28,
   "outputs": [
    {
     "ename": "SyntaxError",
     "evalue": "no binding for nonlocal 'a' found (<ipython-input-28-13dd3ab66a0f>, line 8)",
     "output_type": "error",
     "traceback": [
      "\u001B[1;36m  File \u001B[1;32m\"<ipython-input-28-13dd3ab66a0f>\"\u001B[1;36m, line \u001B[1;32m8\u001B[0m\n\u001B[1;33m    nonlocal a\u001B[0m\n\u001B[1;37m    ^\u001B[0m\n\u001B[1;31mSyntaxError\u001B[0m\u001B[1;31m:\u001B[0m no binding for nonlocal 'a' found\n"
     ]
    }
   ],
   "source": [
    "a = 20\n",
    "\n",
    "\n",
    "def f1():\n",
    "    b = 30\n",
    "\n",
    "    def f2():\n",
    "        nonlocal a\n",
    "        print(a)\n",
    "\n",
    "    f2()\n",
    "\n",
    "\n",
    "f1()"
   ],
   "metadata": {
    "collapsed": false,
    "pycharm": {
     "name": "#%%\n"
    }
   }
  }
 ],
 "metadata": {
  "kernelspec": {
   "display_name": "Python 3",
   "language": "python",
   "name": "python3"
  },
  "language_info": {
   "codemirror_mode": {
    "name": "ipython",
    "version": 2
   },
   "file_extension": ".py",
   "mimetype": "text/x-python",
   "name": "python",
   "nbconvert_exporter": "python",
   "pygments_lexer": "ipython2",
   "version": "2.7.6"
  }
 },
 "nbformat": 4,
 "nbformat_minor": 0
}