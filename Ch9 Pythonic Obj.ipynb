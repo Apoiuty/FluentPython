{
 "cells": [
  {
   "cell_type": "code",
   "execution_count": 2,
   "metadata": {},
   "outputs": [],
   "source": [
    "from array import array\n",
    "import math\n",
    "\n",
    "\n",
    "class Vector2d:\n",
    "    typecode = 'd'\n",
    "    __slots__ = ['__x', '__y','__weakref__']\n",
    "\n",
    "    def __init__(self, x, y):\n",
    "        self.__x = x\n",
    "        self.__y = y\n",
    "\n",
    "    def __iter__(self):\n",
    "        return (i for i in (self.x, self.y))\n",
    "\n",
    "    @property\n",
    "    def x(self):\n",
    "        return self.__x\n",
    "\n",
    "    @property\n",
    "    def y(self):\n",
    "        return self.__y\n",
    "\n",
    "    def __hash__(self):\n",
    "        return hash(self.x) ^ hash(self.y)\n",
    "\n",
    "    def __repr__(self):\n",
    "        class_name = type(self).__name__\n",
    "        return '{}({!r}, {!r})'.format(class_name, *self)\n",
    "\n",
    "    def __str__(self):\n",
    "        return str(tuple(self))\n",
    "\n",
    "    def __bytes__(self):\n",
    "        return bytes([ord(self.typecode)]) + bytes(array(self.typecode, self))\n",
    "\n",
    "    def __eq__(self, other):\n",
    "        return tuple(self) == tuple(other)\n",
    "\n",
    "    def __abs__(self):\n",
    "        return math.hypot(self.x, self.y)\n",
    "\n",
    "    def __bool__(self):\n",
    "        return bool(abs(self))\n",
    "\n",
    "    @classmethod\n",
    "    def frombytes(cls, octets):\n",
    "        typecode = chr(octets[0])\n",
    "        memv = memoryview(octets[1:]).cast(typecode)\n",
    "        return cls(*memv)\n",
    "\n",
    "    def __format__(self, format_spec):\n",
    "        return 'No format'\n",
    "\n",
    "    def __complex__(self):\n",
    "        return complex(*self)"
   ]
  },
  {
   "cell_type": "code",
   "execution_count": 4,
   "metadata": {
    "pycharm": {
     "name": "#%%\n"
    }
   },
   "outputs": [
    {
     "data": {
      "text/plain": [
       "<weakref at 0x00000234D84DFE50; to 'Vector2d' at 0x00000234D8624B80>"
      ]
     },
     "execution_count": 4,
     "metadata": {},
     "output_type": "execute_result"
    }
   ],
   "source": [
    "a = Vector2d(1, 1)\n",
    "from weakref import ref\n",
    "ref(a)"
   ]
  },
  {
   "cell_type": "code",
   "execution_count": 4,
   "metadata": {
    "pycharm": {
     "name": "#%%\n"
    }
   },
   "outputs": [
    {
     "data": {
      "text/plain": [
       "mappingproxy({'__module__': '__main__',\n",
       "              'typecode': 'd',\n",
       "              '__slots__': ['__x', '__y', '__weakref__'],\n",
       "              '__init__': <function __main__.Vector2d.__init__(self, x, y)>,\n",
       "              '__iter__': <function __main__.Vector2d.__iter__(self)>,\n",
       "              'x': <property at 0x195212b0770>,\n",
       "              'y': <property at 0x1958b4d9bd0>,\n",
       "              '__hash__': <function __main__.Vector2d.__hash__(self)>,\n",
       "              '__repr__': <function __main__.Vector2d.__repr__(self)>,\n",
       "              '__str__': <function __main__.Vector2d.__str__(self)>,\n",
       "              '__bytes__': <function __main__.Vector2d.__bytes__(self)>,\n",
       "              '__eq__': <function __main__.Vector2d.__eq__(self, other)>,\n",
       "              '__abs__': <function __main__.Vector2d.__abs__(self)>,\n",
       "              '__bool__': <function __main__.Vector2d.__bool__(self)>,\n",
       "              'frombytes': <classmethod at 0x1958b4de220>,\n",
       "              '__format__': <function __main__.Vector2d.__format__(self, format_spec)>,\n",
       "              '__complex__': <function __main__.Vector2d.__complex__(self)>,\n",
       "              '_Vector2d__x': <member '_Vector2d__x' of 'Vector2d' objects>,\n",
       "              '_Vector2d__y': <member '_Vector2d__y' of 'Vector2d' objects>,\n",
       "              '__weakref__': <attribute '__weakref__' of 'Vector2d' objects>,\n",
       "              '__doc__': None})"
      ]
     },
     "execution_count": 4,
     "metadata": {},
     "output_type": "execute_result"
    }
   ],
   "source": [
    "Vector2d.__dict__"
   ]
  }
 ],
 "metadata": {
  "kernelspec": {
   "display_name": "Python 3 (ipykernel)",
   "language": "python",
   "name": "python3"
  },
  "language_info": {
   "codemirror_mode": {
    "name": "ipython",
    "version": 3
   },
   "file_extension": ".py",
   "mimetype": "text/x-python",
   "name": "python",
   "nbconvert_exporter": "python",
   "pygments_lexer": "ipython3",
   "version": "3.8.9"
  }
 },
 "nbformat": 4,
 "nbformat_minor": 1
}